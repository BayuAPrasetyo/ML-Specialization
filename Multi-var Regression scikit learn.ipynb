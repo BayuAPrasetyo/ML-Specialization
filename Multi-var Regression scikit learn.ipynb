{
 "cells": [
  {
   "attachments": {},
   "cell_type": "markdown",
   "metadata": {},
   "source": [
    "# Multi-variable Linear Regression \n",
    "This notebook will gives a knowledge about multi-variable LR both manually and with scikit-learn module.\n",
    "First, we have to import the module first. "
   ]
  },
  {
   "cell_type": "code",
   "execution_count": 1,
   "metadata": {},
   "outputs": [],
   "source": [
    "import pandas as pd\n",
    "import numpy as np\n",
    "import matplotlib.pyplot as plt\n",
    "import seaborn as sns\n",
    "from sklearn.model_selection import train_test_split\n",
    "from sklearn.linear_model import LinearRegression\n",
    "from sklearn.metrics import mean_squared_error, mean_absolute_error\n",
    "from sklearn import preprocessing"
   ]
  },
  {
   "attachments": {},
   "cell_type": "markdown",
   "metadata": {},
   "source": [
    "After importing the data about real estate, we will predict the house pricing through the six variables, as shown below."
   ]
  },
  {
   "cell_type": "code",
   "execution_count": 2,
   "metadata": {},
   "outputs": [
    {
     "name": "stdout",
     "output_type": "stream",
     "text": [
      "   X1 transaction date  X2 house age  X3 distance to the nearest MRT station  \\\n",
      "0             2012.917          32.0                                84.87882   \n",
      "1             2012.917          19.5                               306.59470   \n",
      "2             2013.583          13.3                               561.98450   \n",
      "3             2013.500          13.3                               561.98450   \n",
      "4             2012.833           5.0                               390.56840   \n",
      "\n",
      "   X4 number of convenience stores  X5 latitude  X6 longitude  \\\n",
      "0                               10     24.98298     121.54024   \n",
      "1                                9     24.98034     121.53951   \n",
      "2                                5     24.98746     121.54391   \n",
      "3                                5     24.98746     121.54391   \n",
      "4                                5     24.97937     121.54245   \n",
      "\n",
      "   Y house price of unit area  \n",
      "0                        37.9  \n",
      "1                        42.2  \n",
      "2                        47.3  \n",
      "3                        54.8  \n",
      "4                        43.1  \n",
      "Index(['X1 transaction date', 'X2 house age',\n",
      "       'X3 distance to the nearest MRT station',\n",
      "       'X4 number of convenience stores', 'X5 latitude', 'X6 longitude',\n",
      "       'Y house price of unit area'],\n",
      "      dtype='object')\n"
     ]
    }
   ],
   "source": [
    "# importing data\n",
    "df = pd.read_csv('Real-estate1.csv')\n",
    "df.drop('No', inplace = True,axis=1)\n",
    "  \n",
    "print(df.head())\n",
    "print(df.columns)"
   ]
  },
  {
   "attachments": {},
   "cell_type": "markdown",
   "metadata": {},
   "source": [
    "Because all the variable and target still converge in 1 data frame, we separate it first."
   ]
  },
  {
   "cell_type": "code",
   "execution_count": 3,
   "metadata": {},
   "outputs": [
    {
     "name": "stdout",
     "output_type": "stream",
     "text": [
      "     X1 transaction date  X2 house age  \\\n",
      "0               2012.917          32.0   \n",
      "1               2012.917          19.5   \n",
      "2               2013.583          13.3   \n",
      "3               2013.500          13.3   \n",
      "4               2012.833           5.0   \n",
      "..                   ...           ...   \n",
      "409             2013.000          13.7   \n",
      "410             2012.667           5.6   \n",
      "411             2013.250          18.8   \n",
      "412             2013.000           8.1   \n",
      "413             2013.500           6.5   \n",
      "\n",
      "     X3 distance to the nearest MRT station  X4 number of convenience stores  \\\n",
      "0                                  84.87882                               10   \n",
      "1                                 306.59470                                9   \n",
      "2                                 561.98450                                5   \n",
      "3                                 561.98450                                5   \n",
      "4                                 390.56840                                5   \n",
      "..                                      ...                              ...   \n",
      "409                              4082.01500                                0   \n",
      "410                                90.45606                                9   \n",
      "411                               390.96960                                7   \n",
      "412                               104.81010                                5   \n",
      "413                                90.45606                                9   \n",
      "\n",
      "     X5 latitude  X6 longitude  \n",
      "0       24.98298     121.54024  \n",
      "1       24.98034     121.53951  \n",
      "2       24.98746     121.54391  \n",
      "3       24.98746     121.54391  \n",
      "4       24.97937     121.54245  \n",
      "..           ...           ...  \n",
      "409     24.94155     121.50381  \n",
      "410     24.97433     121.54310  \n",
      "411     24.97923     121.53986  \n",
      "412     24.96674     121.54067  \n",
      "413     24.97433     121.54310  \n",
      "\n",
      "[414 rows x 6 columns]\n",
      "0      37.9\n",
      "1      42.2\n",
      "2      47.3\n",
      "3      54.8\n",
      "4      43.1\n",
      "       ... \n",
      "409    15.4\n",
      "410    50.0\n",
      "411    40.6\n",
      "412    52.5\n",
      "413    63.9\n",
      "Name: Y house price of unit area, Length: 414, dtype: float64\n"
     ]
    }
   ],
   "source": [
    "# creating feature variables\n",
    "X = df.drop('Y house price of unit area',axis= 1)\n",
    "y = df['Y house price of unit area']\n",
    "print(X)\n",
    "print(y)"
   ]
  },
  {
   "cell_type": "code",
   "execution_count": 19,
   "metadata": {},
   "outputs": [],
   "source": [
    "X_train, X_test, y_train, y_test = train_test_split(X, y, test_size=0.4, random_state=101)"
   ]
  },
  {
   "cell_type": "code",
   "execution_count": 20,
   "metadata": {},
   "outputs": [
    {
     "data": {
      "text/plain": [
       "(array([ 5.06414221e+00, -2.83627390e-01, -4.81454698e-03,  1.00267145e+00,\n",
       "         2.30625349e+02, -2.54512413e+01]),\n",
       " -12815.542837714267)"
      ]
     },
     "execution_count": 20,
     "metadata": {},
     "output_type": "execute_result"
    }
   ],
   "source": [
    "Model = LinearRegression()\n",
    "Model.fit(X_train, y_train)\n",
    "\n",
    "Model.coef_, Model.intercept_"
   ]
  },
  {
   "cell_type": "code",
   "execution_count": 21,
   "metadata": {},
   "outputs": [
    {
     "data": {
      "text/plain": [
       "array([13.36200709, 10.46702902, 21.1309444 , 47.51821861, 32.19604529,\n",
       "       38.29484911, 35.6601396 , 41.19990963, 47.71302799, 40.07561216,\n",
       "       45.02931772, 33.19025175, 41.68856441, 35.93619794, 43.53760772,\n",
       "       45.52775148, 39.76828142, 44.54567674, 48.02668394, 44.89412847,\n",
       "       43.68952256, 54.14326792, 47.93998304, 37.30552851, 34.39726048,\n",
       "       48.1890637 , 40.48530867, 49.51891453, 46.66380666, 39.81558938,\n",
       "       47.34917303, 40.58522657, 45.03432956, 44.20805178, 46.42068741,\n",
       "        8.60581282, 39.49449402, 40.77973144,  8.96941114, 54.9763222 ,\n",
       "       32.34268168, 48.82636539, 25.91343282, 47.69340627, 40.42562406,\n",
       "       50.27322481, 42.37967759, 38.00524935, 43.52778567, 36.60913578,\n",
       "       47.14896225, 34.34219138, 43.79283299, 16.79084146, 38.09559746,\n",
       "       48.57761705, 44.35772909, 44.10136466, 45.3481875 , 40.26076485,\n",
       "       35.63392053, 45.39676575, 42.18649771, 43.33314043, 53.00620842,\n",
       "       44.12043985, 24.0143795 , 46.91423046, 31.93471132, 41.5059515 ,\n",
       "       42.31350315, 48.14951973, 16.34297728, 36.69607206, 13.4384423 ,\n",
       "       41.98196035, 35.28664783, 45.43029447, 43.49115878, 12.80406819,\n",
       "       46.82258586, 38.69235341, 44.21315679, 27.28928522, 51.95472125,\n",
       "       16.80372513, 37.50835693, 31.52603923, 38.45259525, 13.61745317,\n",
       "       46.45721009, 34.24368291, 42.79275719, 25.20180934, 32.01913264,\n",
       "       31.31919858, 22.39121165, 44.47705883, 29.34436425, 37.37393337,\n",
       "       45.79033444, 30.49161802, 38.30525077, 40.74608318, 48.55222214,\n",
       "       28.89246056, 26.40322782, 31.29962769, 34.03957169, 40.19326551,\n",
       "       46.50371791, 44.99703805, 48.91379742, 35.42361735, 46.06018488,\n",
       "       41.43093832, 42.90826741, 47.28764004, 41.83234216, 44.86698897,\n",
       "       51.41722633, 40.70447496, 31.27696349, 16.83208787, 35.25460375,\n",
       "       34.60626834, 15.60304605, 42.8191061 , 49.70278369, 42.56596903,\n",
       "       26.84246972, 40.64884365, 46.41143536, 48.97254594, 54.53522898,\n",
       "       38.0094402 , 34.73676558, 44.1307302 , 44.49516503, 37.55762076,\n",
       "       33.57392905, 47.47291406, 31.44145971, 47.42067506, 34.82502086,\n",
       "       39.60635045, 15.58491787, 33.58221282, 36.93589475, 27.48634122,\n",
       "       47.01863299, 46.7010574 , 30.56288552, 32.6959086 , 46.07832997,\n",
       "       35.31112615, 46.31570905, 31.89171956, 45.88800144, 12.92996972,\n",
       "       51.36104945, 46.85852916, 47.99670852, 52.95472726, 41.333921  ,\n",
       "       50.18010211])"
      ]
     },
     "execution_count": 21,
     "metadata": {},
     "output_type": "execute_result"
    }
   ],
   "source": [
    "predictions = Model.predict(X_test)\n",
    "predictions"
   ]
  },
  {
   "cell_type": "code",
   "execution_count": 22,
   "metadata": {},
   "outputs": [
    {
     "name": "stdout",
     "output_type": "stream",
     "text": [
      "mean_squared_error :  52.210965481447374\n",
      "mean_absolute_error :  5.466522594038082\n"
     ]
    }
   ],
   "source": [
    "# model evaluation\n",
    "print('mean_squared_error : ', mean_squared_error(y_test, predictions))\n",
    "print('mean_absolute_error : ', mean_absolute_error(y_test, predictions))\n"
   ]
  },
  {
   "cell_type": "code",
   "execution_count": 23,
   "metadata": {},
   "outputs": [
    {
     "data": {
      "text/plain": [
       "0.6584013936695442"
      ]
     },
     "execution_count": 23,
     "metadata": {},
     "output_type": "execute_result"
    }
   ],
   "source": [
    "Model.score(X_test, y_test, sample_weight=None)"
   ]
  }
 ],
 "metadata": {
  "kernelspec": {
   "display_name": "Python 3",
   "language": "python",
   "name": "python3"
  },
  "language_info": {
   "codemirror_mode": {
    "name": "ipython",
    "version": 3
   },
   "file_extension": ".py",
   "mimetype": "text/x-python",
   "name": "python",
   "nbconvert_exporter": "python",
   "pygments_lexer": "ipython3",
   "version": "3.10.4"
  },
  "orig_nbformat": 4,
  "vscode": {
   "interpreter": {
    "hash": "a9cff5a362bc38ef45d817ae74b1af54d6a076e3d773891282bce078b815ba34"
   }
  }
 },
 "nbformat": 4,
 "nbformat_minor": 2
}
